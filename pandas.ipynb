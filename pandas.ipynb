{
 "cells": [
  {
   "cell_type": "code",
   "execution_count": 41,
   "metadata": {},
   "outputs": [
    {
     "data": {
      "text/plain": [
       "NumofRespodents       297.000000\n",
       "KnowsPython           132.000000\n",
       "percentKnowsPython     44.444444\n",
       "Name: Japan, dtype: float64"
      ]
     },
     "execution_count": 41,
     "metadata": {},
     "output_type": "execute_result"
    }
   ],
   "source": [
    "import pandas as pd\n",
    "\n",
    "df = pd.read_csv('data/survey_results_public.csv', index_col='Respondent')\n",
    "schema_df = pd.read_csv('data/survey_results_schema.csv', index_col='Column')\n",
    "\n",
    "pd.set_option('display.max_rows', 85)\n",
    "pd.set_option('display.max_columns', 85)\n",
    "\n",
    "country_grp = df.groupby('Country')\n",
    "\n",
    "filt = df['Country'] == 'India'\n",
    "\n",
    "country_py = country_grp['LanguageWorkedWith'].apply(lambda x: x.str.contains('Python').sum())\n",
    "country_resp = df['Country'].value_counts()\n",
    "\n",
    "python_df = pd.concat([country_resp, country_py], axis='columns', sort=False)\n",
    "python_df.rename(columns={'count': 'NumofRespodents', 'LanguageWorkedWith': 'KnowsPython'}, inplace=True)\n",
    "\n",
    "python_df['percentKnowsPython'] = (python_df['KnowsPython'] / python_df['NumofRespodents']) * 100\n",
    "python_df.sort_values(by='percentKnowsPython', ascending=False).head(50)\n",
    "python_df.loc['Japan']"
   ]
  }
 ],
 "metadata": {
  "kernelspec": {
   "display_name": "base",
   "language": "python",
   "name": "python3"
  },
  "language_info": {
   "codemirror_mode": {
    "name": "ipython",
    "version": 3
   },
   "file_extension": ".py",
   "mimetype": "text/x-python",
   "name": "python",
   "nbconvert_exporter": "python",
   "pygments_lexer": "ipython3",
   "version": "3.11.5"
  }
 },
 "nbformat": 4,
 "nbformat_minor": 2
}

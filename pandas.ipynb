{
 "cells": [
  {
   "cell_type": "code",
   "execution_count": 39,
   "metadata": {},
   "outputs": [
    {
     "data": {
      "text/plain": [
       "Respondent\n",
       "1         7.0\n",
       "2        14.0\n",
       "3        18.0\n",
       "4         7.0\n",
       "5        13.0\n",
       "         ... \n",
       "64858    13.0\n",
       "64867     7.0\n",
       "64898     8.0\n",
       "64925     6.0\n",
       "65112     5.0\n",
       "Name: Country, Length: 64461, dtype: float64"
      ]
     },
     "execution_count": 39,
     "metadata": {},
     "output_type": "execute_result"
    }
   ],
   "source": [
    "import pandas as pd\n",
    "\n",
    "df = pd.read_csv('data/survey_results_public.csv', index_col='Respondent')\n",
    "schema_df = pd.read_csv('data/survey_results_schema.csv', index_col='Column')\n",
    "\n",
    "pd.set_option('display.max_rows', 85)\n",
    "pd.set_option('display.max_columns', 85)\n",
    "\n",
    "df['Country'].str.len()\n"
   ]
  }
 ],
 "metadata": {
  "kernelspec": {
   "display_name": "base",
   "language": "python",
   "name": "python3"
  },
  "language_info": {
   "codemirror_mode": {
    "name": "ipython",
    "version": 3
   },
   "file_extension": ".py",
   "mimetype": "text/x-python",
   "name": "python",
   "nbconvert_exporter": "python",
   "pygments_lexer": "ipython3",
   "version": "3.11.5"
  }
 },
 "nbformat": 4,
 "nbformat_minor": 2
}

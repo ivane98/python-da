{
 "cells": [
  {
   "cell_type": "code",
   "execution_count": 28,
   "metadata": {},
   "outputs": [
    {
     "name": "stdout",
     "output_type": "stream",
     "text": [
      "Dubai\n"
     ]
    }
   ],
   "source": [
    "import math\n",
    "\n",
    "def cost_of_trip(n):\n",
    "    if n == 0 or n< 0:\n",
    "        return 0\n",
    "    l = [\"Paris\",\n",
    "        \"London\",\n",
    "        \"Dubai\",\n",
    "        \"Mumbai\"]\n",
    "    cities = {\n",
    "        \"Paris\": [200, 20, 200],\n",
    "        \"London\": [250, 30, 120],\n",
    "        \"Dubai\": [370, 15, 80],\n",
    "        \"Mumbai\": [450, 10, 70]\n",
    "    }\n",
    "    costs = []\n",
    "    for i in l:\n",
    "        costs.append(((cities[i][0] + (cities[i][1] * n) + int(cities[i][2] * math.ceil(n/7))),i))\n",
    "    x = sorted(costs)\n",
    "    return x[0][1]\n",
    "\n",
    "print(cost_of_trip(10))\n"
   ]
  }
 ],
 "metadata": {
  "kernelspec": {
   "display_name": "base",
   "language": "python",
   "name": "python3"
  },
  "language_info": {
   "codemirror_mode": {
    "name": "ipython",
    "version": 3
   },
   "file_extension": ".py",
   "mimetype": "text/x-python",
   "name": "python",
   "nbconvert_exporter": "python",
   "pygments_lexer": "ipython3",
   "version": "3.11.5"
  }
 },
 "nbformat": 4,
 "nbformat_minor": 2
}
